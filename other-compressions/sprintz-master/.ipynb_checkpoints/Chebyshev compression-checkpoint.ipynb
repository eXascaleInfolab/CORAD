{
 "cells": [
  {
   "cell_type": "markdown",
   "metadata": {},
   "source": [
    "## Setup and configs"
   ]
  },
  {
   "cell_type": "markdown",
   "metadata": {},
   "source": [
    " good artcle https://www.techbriefs.com/component/content/article/tb/techbriefs/information-sciences/13857?start=1\n"
   ]
  },
  {
   "cell_type": "code",
   "execution_count": 1,
   "metadata": {},
   "outputs": [
    {
     "ename": "ModuleNotFoundError",
     "evalue": "No module named 'chebyshev_compression'",
     "output_type": "error",
     "traceback": [
      "\u001b[0;31m---------------------------------------------------------------------------\u001b[0m",
      "\u001b[0;31mModuleNotFoundError\u001b[0m                       Traceback (most recent call last)",
      "\u001b[0;32m<ipython-input-1-92c864751c53>\u001b[0m in \u001b[0;36m<module>\u001b[0;34m\u001b[0m\n\u001b[1;32m     11\u001b[0m \u001b[0;32mfrom\u001b[0m \u001b[0msklearn\u001b[0m\u001b[0;34m.\u001b[0m\u001b[0mmodel_selection\u001b[0m \u001b[0;32mimport\u001b[0m \u001b[0mtrain_test_split\u001b[0m\u001b[0;34m\u001b[0m\u001b[0;34m\u001b[0m\u001b[0m\n\u001b[1;32m     12\u001b[0m \u001b[0;32mimport\u001b[0m \u001b[0mpandas\u001b[0m \u001b[0;32mas\u001b[0m \u001b[0mpd\u001b[0m\u001b[0;34m\u001b[0m\u001b[0;34m\u001b[0m\u001b[0m\n\u001b[0;32m---> 13\u001b[0;31m \u001b[0;32mimport\u001b[0m \u001b[0mchebyshev_compression\u001b[0m \u001b[0;32mas\u001b[0m \u001b[0mcheb\u001b[0m\u001b[0;34m\u001b[0m\u001b[0;34m\u001b[0m\u001b[0m\n\u001b[0m\u001b[1;32m     14\u001b[0m \u001b[0;32mimport\u001b[0m \u001b[0mAdaptive_chebyshev_tests\u001b[0m \u001b[0;32mas\u001b[0m \u001b[0mcheb_tests\u001b[0m\u001b[0;34m\u001b[0m\u001b[0;34m\u001b[0m\u001b[0m\n\u001b[1;32m     15\u001b[0m \u001b[0;32mimport\u001b[0m \u001b[0mCompany_Loader\u001b[0m \u001b[0;32mas\u001b[0m \u001b[0mcompany_data_loader\u001b[0m\u001b[0;34m\u001b[0m\u001b[0;34m\u001b[0m\u001b[0m\n",
      "\u001b[0;31mModuleNotFoundError\u001b[0m: No module named 'chebyshev_compression'"
     ]
    }
   ],
   "source": [
    "import numpy as np\n",
    "import json\n",
    "from os import listdir,getcwd,chdir\n",
    "chdir('../')\n",
    "\n",
    "from os.path import isfile,join\n",
    "import sys\n",
    "sys.path.append('src/compression_funcs')\n",
    "sys.path.append('src/DataLoader')\n",
    "import matplotlib.pyplot as plt\n",
    "from sklearn.model_selection import train_test_split\n",
    "import pandas as pd\n",
    "import chebyshev_compression as cheb\n",
    "import Adaptive_chebyshev_tests as cheb_tests\n",
    "import Company_Loader as company_data_loader\n",
    "import MIT_BIH_Loader as ecg_data_loader\n",
    "import REDD_Loader as power_data_loader\n",
    "import scipy\n",
    "\n",
    "getcwd()\n",
    "print('hello')"
   ]
  },
  {
   "cell_type": "code",
   "execution_count": null,
   "metadata": {},
   "outputs": [],
   "source": [
    "%matplotlib inl2q9ine"
   ]
  },
  {
   "cell_type": "code",
   "execution_count": null,
   "metadata": {},
   "outputs": [],
   "source": [
    "company_path_bin = join(getcwd(),r'Data\\TheCompany')\n",
    "company_path_csv = join(getcwd(),r'Data\\TheCompany\\csv\\temp_company.csv')\n",
    "\n",
    "mit_bih_csv = join(getcwd(),r'Data\\MIT_BIH_CSV') \n",
    "\n",
    "gas_path_bin = join(getcwd(),r'Data\\GAS')\n",
    "\n",
    "REDD_path_csv = join(getcwd(),r'Data\\REDD')\n",
    "\n",
    "data_path = mit_bih_csv"
   ]
  },
  {
   "cell_type": "code",
   "execution_count": null,
   "metadata": {},
   "outputs": [],
   "source": [
    "raw_data = ecg_data_loader.load_data(data_path)\n",
    "plt.plot(raw_data[:10])\n",
    "plt.title('Sanity check total sample {0}'.format(raw_data.shape[0]))"
   ]
  },
  {
   "cell_type": "code",
   "execution_count": null,
   "metadata": {},
   "outputs": [],
   "source": [
    "def calc_stats(coefs,orignal,reconstrcuted):\n",
    "    dict_toReturn = {\n",
    "        \"block_size:\":len(orignal),\n",
    "        \"num of zeros in coefs\":np.size((np.where(coefs == 0))),\n",
    "        \"loss norm2\":np.linalg.norm(reconstrcuted-orignal),\n",
    "        \"loss factor\":(np.std(reconstrcuted) - np.std(orignal)) / np.std(orignal),\n",
    "        \"compression gain\":float(len(orignal))/(len(orignal)-np.size((np.where(coefs == 0))))\n",
    "    }\n",
    "   \n",
    "    return dict_toReturn\n",
    "\n",
    "def print_lot_statistics(coefs,orignal,reconstrcuted):\n",
    "    #statistics\n",
    "    dict_toReturn = calc_stats(coefs,orignal,reconstrcuted)\n",
    "    print (dict_toReturn)\n",
    "\n",
    "    #plot\n",
    "    plt.plot(orignal)\n",
    "    plt.plot(reconstrcuted)\n",
    "    plt.legend(('original', 'decompressed'))\n",
    "    plt.title('Compressed vs decompressed block_size {0}'.format(i))\n",
    "    plt.show()\n",
    "\n",
    "    plt.plot(coefs)\n",
    "    plt.title('coeficient. count={0}'.format(len(coefs)))\n",
    "    plt.show()\n",
    "    return dict_toReturn"
   ]
  },
  {
   "cell_type": "markdown",
   "metadata": {},
   "source": [
    "## DCT - RAW"
   ]
  },
  {
   "cell_type": "code",
   "execution_count": null,
   "metadata": {},
   "outputs": [],
   "source": [
    "i=512\n",
    "offset = 500\n",
    "company_cheb_transform_sample = raw_data[offset:offset+i]\n",
    "\n",
    "coefs = scipy.fftpack.dct(company_cheb_transform_sample,norm = 'ortho')\n",
    "company_cheb_transform_sample_reconstructed = scipy.fftpack.idct(coefs,norm = 'ortho')\n",
    "\n",
    "print_lot_statistics(coefs,company_cheb_transform_sample,company_cheb_transform_sample_reconstructed)"
   ]
  },
  {
   "cell_type": "markdown",
   "metadata": {},
   "source": [
    "## Chebyshev transform"
   ]
  },
  {
   "cell_type": "code",
   "execution_count": null,
   "metadata": {},
   "outputs": [],
   "source": [
    "#Sample a subset data\n",
    "i=512\n",
    "offset = 100\n",
    "company_cheb_transform_sample = raw_data[offset:offset+i]\n",
    "\n",
    "# chebyshev transofrm and back\n",
    "coefs,sample_size= cheb.block_compress(company_cheb_transform_sample)\n",
    "company_cheb_transform_sample_reconstructed = cheb.block_decompress(coefs)\n",
    "\n",
    "#print plot statistics\n",
    "print_lot_statistics(coefs,company_cheb_transform_sample,company_cheb_transform_sample_reconstructed)"
   ]
  },
  {
   "cell_type": "markdown",
   "metadata": {},
   "source": [
    "## Chebyshev transform threshold retain"
   ]
  },
  {
   "cell_type": "code",
   "execution_count": null,
   "metadata": {},
   "outputs": [],
   "source": [
    "def evaluate_chebysehv(company_cheb_transform_sample_thres,threshold_idx=-1,print_stats=False):\n",
    "    # chebyshev transofrm and back\n",
    "   \n",
    "    coefs,sample_size= cheb.block_compress(company_cheb_transform_sample_thres)\n",
    "    \n",
    "    if threshold_idx>-1:\n",
    "        threshold = sorted(np.abs(coefs))[threshold_idx]\n",
    "        coefs = np.where(np.abs(coefs)>threshold,coefs,0)\n",
    "\n",
    "    company_cheb_transform_sample_thres_reconstructed = cheb.block_decompress(coefs)\n",
    "    #print plot statistics\n",
    "    if print_stats:\n",
    "        return print_lot_statistics(coefs,company_cheb_transform_sample_thres,company_cheb_transform_sample_thres_reconstructed)\n",
    "    else:\n",
    "        return calc_stats(coefs,company_cheb_transform_sample_thres,company_cheb_transform_sample_thres_reconstructed)\n"
   ]
  },
  {
   "cell_type": "code",
   "execution_count": null,
   "metadata": {},
   "outputs": [],
   "source": [
    "#Sample a subset data\n",
    "offset = 8000000\n",
    "i=1200\n",
    "company_cheb_transform_sample_thres = raw_data[offset:offset+i]\n",
    "evaluate_chebysehv(company_cheb_transform_sample_thres,1100,True)"
   ]
  },
  {
   "cell_type": "code",
   "execution_count": null,
   "metadata": {},
   "outputs": [],
   "source": [
    "pd.DataFrame(raw_data[offset:offset+i]).to_csv('ecg_temp.csv')"
   ]
  },
  {
   "cell_type": "markdown",
   "metadata": {},
   "source": [
    "## Sliding Chebyshev"
   ]
  },
  {
   "cell_type": "code",
   "execution_count": null,
   "metadata": {},
   "outputs": [],
   "source": [
    "\n",
    "cheb_tests.Sens_Test_Automatic('ecg_temp.csv')"
   ]
  },
  {
   "cell_type": "markdown",
   "metadata": {},
   "source": [
    "## IoT Data Compression Sensor - Agnostic Approach ##\n",
    "https://ieeexplore-ieee-org.ezprimo1.idc.ac.il/stamp/stamp.jsp?arnumber=7149287\n",
    "\n",
    "https://infoscience.epfl.ch/record/181860/files/TKDE.pdf\n",
    "\n",
    "https://infoscience.epfl.ch/record/181860/files/TKDE.pdf\n",
    "\n",
    "https://www-user.tu-chemnitz.de/~potts/paper/sparse_Cheb.pdf"
   ]
  },
  {
   "cell_type": "markdown",
   "metadata": {},
   "source": [
    " - https://ntrs.nasa.gov/archive/nasa/casi.ntrs.nasa.gov/20080009460.pdf\n",
    " "
   ]
  },
  {
   "cell_type": "code",
   "execution_count": null,
   "metadata": {},
   "outputs": [],
   "source": []
  },
  {
   "cell_type": "code",
   "execution_count": null,
   "metadata": {},
   "outputs": [],
   "source": [
    "print('hello')"
   ]
  },
  {
   "cell_type": "code",
   "execution_count": null,
   "metadata": {},
   "outputs": [],
   "source": []
  }
 ],
 "metadata": {
  "kernelspec": {
   "display_name": "Python 3",
   "language": "python",
   "name": "python3"
  },
  "language_info": {
   "codemirror_mode": {
    "name": "ipython",
    "version": 3
   },
   "file_extension": ".py",
   "mimetype": "text/x-python",
   "name": "python",
   "nbconvert_exporter": "python",
   "pygments_lexer": "ipython3",
   "version": "3.7.3"
  }
 },
 "nbformat": 4,
 "nbformat_minor": 2
}
